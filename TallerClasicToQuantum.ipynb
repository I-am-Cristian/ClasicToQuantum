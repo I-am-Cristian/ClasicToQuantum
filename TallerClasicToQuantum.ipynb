{
 "cells": [
  {
   "cell_type": "markdown",
   "id": "1b9eb707-7c83-4f97-ba13-0231912c8306",
   "metadata": {},
   "source": [
    "# Modelling Classical, probabilistic, and Quantum Systems\n",
    "\n",
    "## Classical Discrete Systems\n",
    "![Deterministic System](images/ClassicPhysicalSystem.png)"
   ]
  },
  {
   "cell_type": "markdown",
   "id": "7aa53935-0e35-48f9-a950-8419d2e10552",
   "metadata": {},
   "source": [
    "\n",
    "\n",
    "Modeling the dynamic behaviors and the state of a classical discrete system using matrices and vectors. The state after one click is computed as follows:\n",
    "\n",
    "$$ \n",
    "    \\begin{bmatrix} 0 && 0 && 0 && 0 && 0 && 0 \\\\\n",
    "                   0 && 0 && 0 && 0 && 0 && 0 \\\\\n",
    "                   0 && 1 && 0 && 0 && 0 && 1 \\\\\n",
    "                   0 && 0 && 0 && 1 && 0 && 0 \\\\\n",
    "                   0 && 0 && 1 && 0 && 0 && 0 \\\\\n",
    "                   1 && 0 && 0 && 0 && 1 && 0 \\\\\n",
    "    \\end{bmatrix}\n",
    "    \\begin{bmatrix} 6 \\\\\n",
    "                    2 \\\\\n",
    "                    1 \\\\\n",
    "                    5 \\\\\n",
    "                    3 \\\\\n",
    "                    10 \\\\\n",
    "    \\end{bmatrix}\n",
    "    =\n",
    "    \\begin{bmatrix} 0 \\\\\n",
    "                    0 \\\\\n",
    "                    12 \\\\\n",
    "                    5 \\\\\n",
    "                    1 \\\\\n",
    "                    9 \\\\\n",
    "    \\end{bmatrix}$$"
   ]
  },
  {
   "cell_type": "code",
   "execution_count": 2,
   "id": "36c6338e-7e0a-49a2-b34d-d3c14cadcce9",
   "metadata": {},
   "outputs": [
    {
     "name": "stdout",
     "output_type": "stream",
     "text": [
      "Input:  [[0 0 0 0 0 0]\n",
      " [0 0 0 0 0 0]\n",
      " [0 1 0 0 0 1]\n",
      " [0 0 0 1 0 0]\n",
      " [0 0 1 0 0 0]\n",
      " [1 0 0 0 1 0]] [[ 6]\n",
      " [ 2]\n",
      " [ 1]\n",
      " [ 5]\n",
      " [ 3]\n",
      " [10]]\n",
      "Result after one Click:  [[ 0]\n",
      " [ 0]\n",
      " [12]\n",
      " [ 5]\n",
      " [ 1]\n",
      " [ 9]]\n"
     ]
    }
   ],
   "source": [
    "import numpy as np\n",
    "\n",
    "# Define two 3x3 complex matrices\n",
    "m1 = np.array([[0,0,0,0,0,0], \n",
    "               [0,0,0,0,0,0], \n",
    "               [0,1,0,0,0,1],\n",
    "               [0,0,0,1,0,0], \n",
    "               [0,0,1,0,0,0], \n",
    "               [1,0,0,0,1,0]])\n",
    "\n",
    "v1 = np.array([[6], [2], [1], [5], [3], [10]])\n",
    "\n",
    "\n",
    "print(\"Input: \", m1,v1)\n",
    "\n",
    "# Multiplying a 3x3 matrix by a 3x1 vector\n",
    "state_after_one_click = np.dot(m1, v1)\n",
    "print(\"Result after one Click: \", state_after_one_click)"
   ]
  },
  {
   "cell_type": "markdown",
   "id": "e57c43d2-c915-4e44-96d8-7ffd835a92fc",
   "metadata": {},
   "source": [
    "![State after two clicks.](images/ClassicPhysicalSystem2.png)\n",
    "\n",
    "The state after two cliks is computed as follows:"
   ]
  },
  {
   "cell_type": "code",
   "execution_count": 3,
   "id": "59a3b269-cabf-4b42-a3f5-43556c45c906",
   "metadata": {},
   "outputs": [
    {
     "name": "stdout",
     "output_type": "stream",
     "text": [
      "Result after two clicks:  [[ 0]\n",
      " [ 0]\n",
      " [ 9]\n",
      " [ 5]\n",
      " [12]\n",
      " [ 1]]\n"
     ]
    }
   ],
   "source": [
    "print(\"Result after two clicks: \", np.dot(m1,state_after_one_click))"
   ]
  },
  {
   "cell_type": "markdown",
   "id": "3a108f1a-df36-40c5-9104-19b2bca3b0e7",
   "metadata": {},
   "source": [
    "## Exercises \n",
    "\n"
   ]
  },
  {
   "cell_type": "markdown",
   "id": "380d0d61-9d8f-4412-99e0-c46a7dd4c98c",
   "metadata": {},
   "source": [
    "### Excercise 1:\n",
    "\n",
    "1. Write a program to model the behavior of the probabilistic double slit example depicted in the figure.\n",
    "2. Show the results of the experiment using a bar diagram. Each bar represents the intensity of the light at the specific target.\n",
    "\n",
    "\n",
    "![Probabilistic Double slit.](images/ProbabilisticSystem.png)"
   ]
  },
  {
   "cell_type": "code",
   "execution_count": 4,
   "id": "d8b5fdd8",
   "metadata": {},
   "outputs": [
    {
     "name": "stdout",
     "output_type": "stream",
     "text": [
      "Estado después de un clic: [0.  0.5 0.5 0.  0.  0.  0.  0. ]\n",
      "Estado después de dos clics: [0.         0.         0.         0.16666667 0.16666667 0.33333333\n",
      " 0.16666667 0.16666667]\n",
      "\n",
      "Distribución de probabilidades:\n",
      "Posición 0:  (0.0000)\n",
      "Posición 1:  (0.0000)\n",
      "Posición 2:  (0.0000)\n",
      "Posición 3: █████████████████████████ (0.1667)\n",
      "Posición 4: █████████████████████████ (0.1667)\n",
      "Posición 5: ██████████████████████████████████████████████████ (0.3333)\n",
      "Posición 6: █████████████████████████ (0.1667)\n",
      "Posición 7: █████████████████████████ (0.1667)\n"
     ]
    }
   ],
   "source": [
    "import numpy as np\n",
    "\n",
    "# Definir la matriz de transición según el modelo probabilístico\n",
    "M = np.array([[0, 0, 0, 0, 0, 0, 0, 0], \n",
    "                [1/2, 0, 0, 0, 0, 0, 0, 0], \n",
    "                [1/2, 0, 0, 0, 0, 0, 0, 0],\n",
    "                [0, 1/3, 0, 1, 0, 0, 0, 0], \n",
    "                [0, 1/3, 0, 0, 1, 0, 0, 0], \n",
    "                [0, 1/3, 1/3, 0, 0, 1, 0, 0],\n",
    "                [0, 0, 1/3, 0, 0, 0, 1, 0],\n",
    "                [0, 0, 1/3, 0, 0, 0, 0, 1]])\n",
    "\n",
    "# Estado inicial (la partícula está en el punto de partida)\n",
    "X = np.array([1, 0, 0, 0, 0, 0, 0, 0])\n",
    "\n",
    "# Multiplicamos por la matriz para obtener el estado después de un clic\n",
    "MmultiX = np.dot(M, X)\n",
    "\n",
    "# Multiplicamos nuevamente para obtener el estado después de dos clics\n",
    "MmultiX2 = np.dot(M, MmultiX)\n",
    "\n",
    "# Mostrar resultados numéricos\n",
    "print(\"Estado después de un clic:\", MmultiX)\n",
    "print(\"Estado después de dos clics:\", MmultiX2)\n",
    "\n",
    "# Representación gráfica simple en texto\n",
    "def diagram(state):\n",
    "    max_length = 50  # Máximo número de caracteres para representar la barra más larga\n",
    "    max_value = max(state)  # Valor máximo de la probabilidad\n",
    "    \n",
    "    print(\"\\nDistribución de probabilidades:\")\n",
    "    for i, value in enumerate(state):\n",
    "        bar_length = int((value / max_value) * max_length)  # Escalar el largo de la barra\n",
    "        bar = '█' * bar_length  # Usar el caracter '█' para la barra\n",
    "        print(f\"Posición {i}: {bar} ({value:.4f})\")  # Mostrar la barra y la probabilidad\n",
    "\n",
    "# Imprimir la distribución de probabilidades después de dos clics\n",
    "diagram(MmultiX2)\n",
    "\n"
   ]
  },
  {
   "cell_type": "markdown",
   "id": "22908e20-9e48-474b-97fa-77c83ae951ca",
   "metadata": {},
   "source": [
    "### Excercise 2:\n",
    "\n",
    "1. Write a program to model the behavior of the quantum double slit example depicted in the figure.\n",
    "2. Show the results of the experiment using a bar diagram. Each bar represents the intensity of the light at the specific target.\n",
    "\n",
    "\n",
    "![Probabilistic Double slit.](images/QuantumSystem.png)"
   ]
  },
  {
   "cell_type": "code",
   "execution_count": 5,
   "id": "29e19741",
   "metadata": {},
   "outputs": [
    {
     "name": "stdout",
     "output_type": "stream",
     "text": [
      "Amplitud después de un clic: [0.        +0.j 0.70710678+0.j 0.70710678+0.j 0.        +0.j\n",
      " 0.        +0.j 0.        +0.j 0.        +0.j 0.        +0.j]\n",
      "Amplitud después de dos clics: [ 0.        +0.j          0.        +0.j          0.        +0.j\n",
      " -0.28867513+0.28867513j -0.28867513-0.28867513j  0.        +0.j\n",
      " -0.28867513-0.28867513j  0.28867513-0.28867513j]\n",
      "\n",
      "Intensidades (Probabilidades) después de dos clics: [0.         0.         0.         0.16666667 0.16666667 0.\n",
      " 0.16666667 0.16666667]\n",
      "\n",
      "Distribución de intensidades:\n",
      "Posición 0:  (0.0000)\n",
      "Posición 1:  (0.0000)\n",
      "Posición 2:  (0.0000)\n",
      "Posición 3: ██████████████████████████████████████████████████ (0.1667)\n",
      "Posición 4: ██████████████████████████████████████████████████ (0.1667)\n",
      "Posición 5:  (0.0000)\n",
      "Posición 6: ██████████████████████████████████████████████████ (0.1667)\n",
      "Posición 7: ██████████████████████████████████████████████████ (0.1667)\n"
     ]
    }
   ],
   "source": [
    "import numpy as np\n",
    "\n",
    "# Definir la matriz de transición cuántica \n",
    "M = np.array([[0,0,0,0,0,0,0,0], \n",
    "               [1/np.sqrt(2),0,0,0,0,0,0,0], \n",
    "               [1/np.sqrt(2),0,0,0,0,0,0,0],\n",
    "               [0,(-1+1j)/1/np.sqrt(6),0,1,0,0,0,0], \n",
    "               [0,(-1-1j)/1/np.sqrt(6),0,0,1,0,0,0], \n",
    "               [0,(1-1j)/1/np.sqrt(6),(-1+1j)/1/np.sqrt(6),0,0,1,0,0],\n",
    "               [0,0,(-1-1j)/1/np.sqrt(6),0,0,0,1,0],\n",
    "               [0,0,(1-1j)/1/np.sqrt(6),0,0,0,0,1]], dtype=complex)\n",
    "\n",
    "# Estado inicial (la partícula está en el punto de partida)\n",
    "X = np.array([1, 0, 0, 0, 0, 0, 0, 0], dtype=complex)\n",
    "\n",
    "# Multiplicamos por la matriz para obtener el estado después de un clic\n",
    "MmultiX = np.dot(M, X)\n",
    "\n",
    "# Multiplicamos nuevamente para obtener el estado después de dos clics\n",
    "MmultiX2 = np.dot(M, MmultiX)\n",
    "\n",
    "# Mostrar resultados numéricos de amplitudes complejas\n",
    "print(\"Amplitud después de un clic:\", MmultiX)\n",
    "print(\"Amplitud después de dos clics:\", MmultiX2)\n",
    "\n",
    "# Calcular las intensidades (el cuadrado de la magnitud de las amplitudes complejas)\n",
    "intensities = np.abs(MmultiX2)**2\n",
    "\n",
    "# Mostrar intensidades\n",
    "print(\"\\nIntensidades (Probabilidades) después de dos clics:\", intensities)\n",
    "\n",
    "# Representación gráfica simple en texto\n",
    "def diagram(intensities):\n",
    "    max_length = 50  # Máximo número de caracteres para representar la barra más larga\n",
    "    max_value = max(intensities)  # Valor máximo de la intensidad\n",
    "    \n",
    "    print(\"\\nDistribución de intensidades:\")\n",
    "    for i, value in enumerate(intensities):\n",
    "        bar_length = int((value / max_value) * max_length)  # Escalar el largo de la barra\n",
    "        bar = '█' * bar_length  # Usar el caracter '█' para la barra\n",
    "        print(f\"Posición {i}: {bar} ({value:.4f})\")  # Mostrar la barra y la intensidad\n",
    "\n",
    "# Imprimir la distribución de intensidades después de dos clics\n",
    "diagram(intensities)\n"
   ]
  },
  {
   "cell_type": "markdown",
   "id": "6ba5e85d-74f5-4ea7-868a-20c99b5f02c5",
   "metadata": {},
   "source": [
    "## Exercise 3: Simulating the Double Slit Experiment with Waves\n",
    "\n",
    "### Objective\n",
    "\n",
    "In this exercise, you will create a simulation of the double slit experiment using Python. Unlike particle-based interpretations, you will model light as waves and observe the interference pattern that emerges when waves pass through two slits and overlap on a screen. This simulation will help you visualize how constructive and destructive interference patterns form.\n",
    "\n",
    "### Background\n",
    "\n",
    "The double slit experiment demonstrates the wave-particle duality of light and\n",
    "matter. When coherent light passes through two closely spaced slits, it creates\n",
    "an interference pattern of bright and dark fringes on a detection screen. This\n",
    "pattern results from the constructive and destructive interference of the waves\n",
    "emanating from the slits.\n",
    "\n",
    "### References\n",
    "\n",
    "[Mathematics of Interference](https://phys.libretexts.org/Bookshelves/University_Physics/University_Physics_(OpenStax)/University_Physics_III_-_Optics_and_Modern_Physics_(OpenStax)/03%3A_Interference/3.03%3A_Mathematics_of_Interference)\n",
    "\n",
    "### Task\n",
    "\n",
    "Your task is to simulate the wave interference pattern using Python. Assume each slit acts as a point source of waves that spread out in circular patterns. When these waves overlap, they interfere with each other, creating a pattern of alternating high and low intensity on a screen.\n",
    "\n",
    "### Steps\n",
    "\n",
    "1. **Setup the Environment**: Ensure you have Python installed with the necessary libraries: NumPy for numerical calculations and Matplotlib for plotting.\n",
    "\n",
    "2. **Define Parameters**:\n",
    "   - Define the distance between the slits, the wavelength of the light, the distance from the slits to the screen, and the number of points on the screen where intensity will be calculated.\n",
    "\n",
    "3. **Model the Waves**:\n",
    "   - For simplicity, you can assume the wavefronts are straight lines perpendicular to the direction of propagation. Use the Huygens-Fresnel principle to model each slit as a source of new waves.\n",
    "\n",
    "4. **Calculate Intensity**:\n",
    "   - Use the principle of superposition to calculate the resultant wave amplitude at each point on the screen by summing the contributions from each slit.\n",
    "   - The intensity of light at each point is proportional to the square of the amplitude of the resultant wave.\n",
    "\n",
    "5. **Plot the Results**:\n",
    "   - Plot the calculated intensity pattern on the screen. You should observe a series of bright and dark fringes, demonstrating the interference pattern.\n",
    "\n",
    "### Hints\n",
    "\n",
    "- Use NumPy arrays to efficiently calculate the wave amplitudes and intensities across the screen.\n",
    "- Remember, the phase difference between the waves from the two slits contributes to the constructive (in-phase) and destructive (out-of-phase) interference.\n",
    "\n",
    "### Sample Code Skeleton\n",
    "\n",
    "\n"
   ]
  },
  {
   "cell_type": "code",
   "execution_count": 1,
   "id": "ff00f46c",
   "metadata": {},
   "outputs": [
    {
     "ename": "ModuleNotFoundError",
     "evalue": "No module named 'matplotlib'",
     "output_type": "error",
     "traceback": [
      "\u001b[1;31m---------------------------------------------------------------------------\u001b[0m",
      "\u001b[1;31mModuleNotFoundError\u001b[0m                       Traceback (most recent call last)",
      "Cell \u001b[1;32mIn[1], line 2\u001b[0m\n\u001b[0;32m      1\u001b[0m \u001b[38;5;28;01mimport\u001b[39;00m \u001b[38;5;21;01mnumpy\u001b[39;00m \u001b[38;5;28;01mas\u001b[39;00m \u001b[38;5;21;01mnp\u001b[39;00m\n\u001b[1;32m----> 2\u001b[0m \u001b[38;5;28;01mimport\u001b[39;00m \u001b[38;5;21;01mmatplotlib\u001b[39;00m\u001b[38;5;21;01m.\u001b[39;00m\u001b[38;5;21;01mpyplot\u001b[39;00m \u001b[38;5;28;01mas\u001b[39;00m \u001b[38;5;21;01mplt\u001b[39;00m\n\u001b[0;32m      4\u001b[0m \u001b[38;5;66;03m# Definir parámetros\u001b[39;00m\n\u001b[0;32m      5\u001b[0m distancia_rendijas \u001b[38;5;241m=\u001b[39m \u001b[38;5;241m0.1\u001b[39m  \u001b[38;5;66;03m# distancia entre las dos rendijas (en metros)\u001b[39;00m\n",
      "\u001b[1;31mModuleNotFoundError\u001b[0m: No module named 'matplotlib'"
     ]
    }
   ],
   "source": [
    "import numpy as np\n",
    "import matplotlib.pyplot as plt\n",
    "\n",
    "# Definir parámetros\n",
    "distancia_rendijas = 0.1  # distancia entre las dos rendijas (en metros)\n",
    "longitud_onda = 500e-9    # longitud de onda de la luz (500 nm)\n",
    "distancia_pantalla = 1.0  # distancia de las rendijas a la pantalla (en metros)\n",
    "ancho_pantalla = 0.5      # ancho de la pantalla (en metros)\n",
    "num_puntos = 1000         # número de puntos en la pantalla para calcular la intensidad\n",
    "\n",
    "# Calcular posiciones en la pantalla\n",
    "puntos_pantalla = np.linspace(-ancho_pantalla/2, ancho_pantalla/2, num_puntos)\n",
    "\n",
    "# Función para calcular la distancia desde cada rendija hasta el punto en la pantalla\n",
    "def diferencia_de_camino(x, distancia_rendijas, distancia_pantalla):\n",
    "    distancia_rendija1 = np.sqrt((distancia_rendijas/2)**2 + distancia_pantalla**2)  # distancia desde la rendija 1\n",
    "    distancia_rendija2 = np.sqrt((distancia_rendijas/2)**2 + distancia_pantalla**2)  # distancia desde la rendija 2\n",
    "    return np.sqrt((x + distancia_rendijas/2)**2 + distancia_pantalla**2), np.sqrt((x - distancia_rendijas/2)**2 + distancia_pantalla**2)\n",
    "\n",
    "# Calcular el patrón de interferencia\n",
    "intensidad = np.zeros(num_puntos)  # inicializar arreglo de intensidad\n",
    "\n",
    "for i, x in enumerate(puntos_pantalla):\n",
    "    r1, r2 = diferencia_de_camino(x, distancia_rendijas, distancia_pantalla)\n",
    "    \n",
    "    # Diferencia de fase debido a la diferencia de camino\n",
    "    diferencia_de_fase = (2 * np.pi / longitud_onda) * (r2 - r1)\n",
    "    \n",
    "    # Superposición de ondas de ambas rendijas\n",
    "    amplitud = np.cos(diferencia_de_fase / 2)\n",
    "    \n",
    "    # La intensidad es proporcional al cuadrado de la amplitud\n",
    "    intensidad[i] = amplitud**2\n",
    "\n",
    "# Graficar los resultados\n",
    "plt.figure(figsize=(10, 6))\n",
    "plt.plot(puntos_pantalla, intensidad, label='Patrón de Interferencia')\n",
    "plt.xlabel('Posición en la Pantalla (m)')\n",
    "plt.ylabel('Intensidad')\n",
    "plt.title('Simulación del Experimento de Doble Rendija: Patrón de Interferencia')\n",
    "plt.legend()\n",
    "plt.show()\n"
   ]
  }
 ],
 "metadata": {
  "kernelspec": {
   "display_name": "Python 3 (ipykernel)",
   "language": "python",
   "name": "python3"
  },
  "language_info": {
   "codemirror_mode": {
    "name": "ipython",
    "version": 3
   },
   "file_extension": ".py",
   "mimetype": "text/x-python",
   "name": "python",
   "nbconvert_exporter": "python",
   "pygments_lexer": "ipython3",
   "version": "3.11.9"
  }
 },
 "nbformat": 4,
 "nbformat_minor": 5
}
